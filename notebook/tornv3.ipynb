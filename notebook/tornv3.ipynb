{
 "cells": [
  {
   "cell_type": "code",
   "execution_count": 1,
   "metadata": {},
   "outputs": [],
   "source": [
    "import pandas as pd\n",
    "import numpy as np\n",
    "import tabula\n",
    "from datetime import datetime\n",
    "import seaborn as sns"
   ]
  },
  {
   "cell_type": "code",
   "execution_count": 2,
   "metadata": {},
   "outputs": [],
   "source": [
    "tornado = pd.read_csv('../data/2000-2018_torn3.csv')"
   ]
  },
  {
   "cell_type": "code",
   "execution_count": 3,
   "metadata": {},
   "outputs": [],
   "source": [
    "tornado_small = pd.DataFrame()"
   ]
  },
  {
   "cell_type": "code",
   "execution_count": 4,
   "metadata": {},
   "outputs": [],
   "source": [
    "tornado_small = tornado[['om','State', 'time', 'mag']]"
   ]
  },
  {
   "cell_type": "code",
   "execution_count": 5,
   "metadata": {},
   "outputs": [],
   "source": [
    "#filter for tornado alley states\n",
    "dixie_alley = tornado_small.loc[tornado_small['State'].isin(['AR', 'AL', 'GA', 'LA', 'MS', 'TN'])]"
   ]
  },
  {
   "cell_type": "code",
   "execution_count": 6,
   "metadata": {},
   "outputs": [],
   "source": [
    "#filter for magnitude > 0\n",
    "dixie_alley = dixie_alley.loc[dixie_alley['mag'] > 0]"
   ]
  },
  {
   "cell_type": "code",
   "execution_count": 7,
   "metadata": {},
   "outputs": [
    {
     "data": {
      "text/plain": [
       "array([1, 3, 2, 4, 5], dtype=int64)"
      ]
     },
     "execution_count": 7,
     "metadata": {},
     "output_type": "execute_result"
    }
   ],
   "source": [
    "#check mag values\n",
    "dixie_alley.mag.unique()"
   ]
  },
  {
   "cell_type": "code",
   "execution_count": 8,
   "metadata": {},
   "outputs": [],
   "source": [
    "#filter for tornado alley states\n",
    "tornado_alley = tornado_small.loc[tornado_small['State'].isin(['IA', 'KS', 'MO', 'NE', 'OK', 'SD', 'TX'])]"
   ]
  },
  {
   "cell_type": "code",
   "execution_count": 9,
   "metadata": {},
   "outputs": [],
   "source": [
    "#filter for magnitude > 0\n",
    "tornado_alley = tornado_alley.loc[tornado_alley['mag'] > 0]"
   ]
  },
  {
   "cell_type": "code",
   "execution_count": 10,
   "metadata": {},
   "outputs": [
    {
     "data": {
      "text/plain": [
       "array([1, 3, 2, 4, 5], dtype=int64)"
      ]
     },
     "execution_count": 10,
     "metadata": {},
     "output_type": "execute_result"
    }
   ],
   "source": [
    "#check mag values\n",
    "tornado_alley.mag.unique()"
   ]
  },
  {
   "cell_type": "code",
   "execution_count": 11,
   "metadata": {},
   "outputs": [],
   "source": [
    "#pd.to_datetime(smile_small['call_date'])\n",
    "dixie_alley['time'] = pd.to_datetime(dixie_alley['time'])"
   ]
  },
  {
   "cell_type": "code",
   "execution_count": 12,
   "metadata": {},
   "outputs": [
    {
     "name": "stdout",
     "output_type": "stream",
     "text": [
      "<class 'pandas.core.frame.DataFrame'>\n",
      "Int64Index: 2977 entries, 0 to 23678\n",
      "Data columns (total 4 columns):\n",
      " #   Column  Non-Null Count  Dtype         \n",
      "---  ------  --------------  -----         \n",
      " 0   om      2977 non-null   int64         \n",
      " 1   State   2977 non-null   object        \n",
      " 2   time    2977 non-null   datetime64[ns]\n",
      " 3   mag     2977 non-null   int64         \n",
      "dtypes: datetime64[ns](1), int64(2), object(1)\n",
      "memory usage: 116.3+ KB\n"
     ]
    }
   ],
   "source": [
    "dixie_alley.info()"
   ]
  },
  {
   "cell_type": "code",
   "execution_count": 13,
   "metadata": {},
   "outputs": [],
   "source": [
    "def convert_time(df, column):\n",
    "    \"\"\"Converts time column in dataframe from object to timedelta64[ns] to keep HH:MM:SS format \n",
    "    Input is DataFrame name, column name in str format\"\"\"\n",
    "    df[column] = (pd.to_datetime(df[column], format = '%H:%M:%S') - \n",
    "                     pd.to_datetime(df[column], format = '%H:%M:%S').dt.normalize())\n",
    "#.dt.normalize sets the time portion of the datetime to midnight. Subtracting the normalized datetime leaves only\n",
    "# hours, minutes, and seconds."
   ]
  },
  {
   "cell_type": "code",
   "execution_count": 14,
   "metadata": {},
   "outputs": [],
   "source": [
    "convert_time(dixie_alley, 'time')"
   ]
  },
  {
   "cell_type": "code",
   "execution_count": 15,
   "metadata": {},
   "outputs": [
    {
     "data": {
      "text/html": [
       "<div>\n",
       "<style scoped>\n",
       "    .dataframe tbody tr th:only-of-type {\n",
       "        vertical-align: middle;\n",
       "    }\n",
       "\n",
       "    .dataframe tbody tr th {\n",
       "        vertical-align: top;\n",
       "    }\n",
       "\n",
       "    .dataframe thead th {\n",
       "        text-align: right;\n",
       "    }\n",
       "</style>\n",
       "<table border=\"1\" class=\"dataframe\">\n",
       "  <thead>\n",
       "    <tr style=\"text-align: right;\">\n",
       "      <th></th>\n",
       "      <th>om</th>\n",
       "      <th>time</th>\n",
       "      <th>mag</th>\n",
       "    </tr>\n",
       "  </thead>\n",
       "  <tbody>\n",
       "    <tr>\n",
       "      <th>count</th>\n",
       "      <td>2977.000000</td>\n",
       "      <td>2977</td>\n",
       "      <td>2977.000000</td>\n",
       "    </tr>\n",
       "    <tr>\n",
       "      <th>mean</th>\n",
       "      <td>12933.237151</td>\n",
       "      <td>0 days 13:45:25.656701</td>\n",
       "      <td>1.384279</td>\n",
       "    </tr>\n",
       "    <tr>\n",
       "      <th>std</th>\n",
       "      <td>6494.303428</td>\n",
       "      <td>0 days 06:34:10.583962</td>\n",
       "      <td>0.688906</td>\n",
       "    </tr>\n",
       "    <tr>\n",
       "      <th>min</th>\n",
       "      <td>1.000000</td>\n",
       "      <td>0 days 00:00:00</td>\n",
       "      <td>1.000000</td>\n",
       "    </tr>\n",
       "    <tr>\n",
       "      <th>25%</th>\n",
       "      <td>7816.000000</td>\n",
       "      <td>0 days 09:05:00</td>\n",
       "      <td>1.000000</td>\n",
       "    </tr>\n",
       "    <tr>\n",
       "      <th>50%</th>\n",
       "      <td>13189.000000</td>\n",
       "      <td>0 days 15:21:00</td>\n",
       "      <td>1.000000</td>\n",
       "    </tr>\n",
       "    <tr>\n",
       "      <th>75%</th>\n",
       "      <td>18132.000000</td>\n",
       "      <td>0 days 18:46:00</td>\n",
       "      <td>2.000000</td>\n",
       "    </tr>\n",
       "    <tr>\n",
       "      <th>max</th>\n",
       "      <td>23679.000000</td>\n",
       "      <td>0 days 23:58:00</td>\n",
       "      <td>5.000000</td>\n",
       "    </tr>\n",
       "  </tbody>\n",
       "</table>\n",
       "</div>"
      ],
      "text/plain": [
       "                 om                    time          mag\n",
       "count   2977.000000                    2977  2977.000000\n",
       "mean   12933.237151  0 days 13:45:25.656701     1.384279\n",
       "std     6494.303428  0 days 06:34:10.583962     0.688906\n",
       "min        1.000000         0 days 00:00:00     1.000000\n",
       "25%     7816.000000         0 days 09:05:00     1.000000\n",
       "50%    13189.000000         0 days 15:21:00     1.000000\n",
       "75%    18132.000000         0 days 18:46:00     2.000000\n",
       "max    23679.000000         0 days 23:58:00     5.000000"
      ]
     },
     "execution_count": 15,
     "metadata": {},
     "output_type": "execute_result"
    }
   ],
   "source": [
    "dixie_alley.describe()"
   ]
  },
  {
   "cell_type": "code",
   "execution_count": 16,
   "metadata": {},
   "outputs": [],
   "source": [
    "convert_time(tornado_alley, 'time')"
   ]
  },
  {
   "cell_type": "code",
   "execution_count": 17,
   "metadata": {},
   "outputs": [
    {
     "data": {
      "text/html": [
       "<div>\n",
       "<style scoped>\n",
       "    .dataframe tbody tr th:only-of-type {\n",
       "        vertical-align: middle;\n",
       "    }\n",
       "\n",
       "    .dataframe tbody tr th {\n",
       "        vertical-align: top;\n",
       "    }\n",
       "\n",
       "    .dataframe thead th {\n",
       "        text-align: right;\n",
       "    }\n",
       "</style>\n",
       "<table border=\"1\" class=\"dataframe\">\n",
       "  <thead>\n",
       "    <tr style=\"text-align: right;\">\n",
       "      <th></th>\n",
       "      <th>om</th>\n",
       "      <th>time</th>\n",
       "      <th>mag</th>\n",
       "    </tr>\n",
       "  </thead>\n",
       "  <tbody>\n",
       "    <tr>\n",
       "      <th>count</th>\n",
       "      <td>3029.000000</td>\n",
       "      <td>3029</td>\n",
       "      <td>3029.000000</td>\n",
       "    </tr>\n",
       "    <tr>\n",
       "      <th>mean</th>\n",
       "      <td>12258.360515</td>\n",
       "      <td>0 days 16:34:53.463189</td>\n",
       "      <td>1.399802</td>\n",
       "    </tr>\n",
       "    <tr>\n",
       "      <th>std</th>\n",
       "      <td>6775.723811</td>\n",
       "      <td>0 days 05:05:44.724784</td>\n",
       "      <td>0.711957</td>\n",
       "    </tr>\n",
       "    <tr>\n",
       "      <th>min</th>\n",
       "      <td>58.000000</td>\n",
       "      <td>0 days 00:00:00</td>\n",
       "      <td>1.000000</td>\n",
       "    </tr>\n",
       "    <tr>\n",
       "      <th>25%</th>\n",
       "      <td>6591.000000</td>\n",
       "      <td>0 days 15:24:00</td>\n",
       "      <td>1.000000</td>\n",
       "    </tr>\n",
       "    <tr>\n",
       "      <th>50%</th>\n",
       "      <td>12287.000000</td>\n",
       "      <td>0 days 17:40:00</td>\n",
       "      <td>1.000000</td>\n",
       "    </tr>\n",
       "    <tr>\n",
       "      <th>75%</th>\n",
       "      <td>18420.000000</td>\n",
       "      <td>0 days 19:40:00</td>\n",
       "      <td>2.000000</td>\n",
       "    </tr>\n",
       "    <tr>\n",
       "      <th>max</th>\n",
       "      <td>23623.000000</td>\n",
       "      <td>0 days 23:58:00</td>\n",
       "      <td>5.000000</td>\n",
       "    </tr>\n",
       "  </tbody>\n",
       "</table>\n",
       "</div>"
      ],
      "text/plain": [
       "                 om                    time          mag\n",
       "count   3029.000000                    3029  3029.000000\n",
       "mean   12258.360515  0 days 16:34:53.463189     1.399802\n",
       "std     6775.723811  0 days 05:05:44.724784     0.711957\n",
       "min       58.000000         0 days 00:00:00     1.000000\n",
       "25%     6591.000000         0 days 15:24:00     1.000000\n",
       "50%    12287.000000         0 days 17:40:00     1.000000\n",
       "75%    18420.000000         0 days 19:40:00     2.000000\n",
       "max    23623.000000         0 days 23:58:00     5.000000"
      ]
     },
     "execution_count": 17,
     "metadata": {},
     "output_type": "execute_result"
    }
   ],
   "source": [
    "tornado_alley.describe()"
   ]
  }
 ],
 "metadata": {
  "kernelspec": {
   "display_name": "Python 3",
   "language": "python",
   "name": "python3"
  },
  "language_info": {
   "codemirror_mode": {
    "name": "ipython",
    "version": 3
   },
   "file_extension": ".py",
   "mimetype": "text/x-python",
   "name": "python",
   "nbconvert_exporter": "python",
   "pygments_lexer": "ipython3",
   "version": "3.8.3"
  }
 },
 "nbformat": 4,
 "nbformat_minor": 4
}
